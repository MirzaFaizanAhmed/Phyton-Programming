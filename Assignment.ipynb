{
 "cells": [
  {
   "cell_type": "code",
   "execution_count": 24,
   "metadata": {},
   "outputs": [
    {
     "name": "stdout",
     "output_type": "stream",
     "text": [
      "Twinkle, twinkle, little star,\n",
      "      How I wonder what you are!\n",
      "            Up above the world so high,\n",
      "            Like a diamond in the sky.\n",
      "Twinkle, twinkle, little star,\n",
      "      How I wonder what you are!\n"
     ]
    }
   ],
   "source": [
    "print(\"Twinkle, twinkle, little star,\")\n",
    "print(\"      How I wonder what you are!\")\n",
    "print(\"            Up above the world so high,\")\n",
    "print(\"            Like a diamond in the sky.\")\n",
    "print(\"Twinkle, twinkle, little star,\")\n",
    "print(\"      How I wonder what you are!\")\n",
    "\n"
   ]
  },
  {
   "cell_type": "code",
   "execution_count": 25,
   "metadata": {},
   "outputs": [
    {
     "name": "stdout",
     "output_type": "stream",
     "text": [
      "Phyton version\n",
      "3.7.4 (default, Aug  9 2019, 18:34:13) [MSC v.1915 64 bit (AMD64)]\n"
     ]
    }
   ],
   "source": [
    "import sys\n",
    "print(\"Phyton version\")\n",
    "print(sys.version)"
   ]
  },
  {
   "cell_type": "code",
   "execution_count": 29,
   "metadata": {},
   "outputs": [
    {
     "name": "stdout",
     "output_type": "stream",
     "text": [
      "Date 1 - 11 - 2019\n",
      "Time 20 : 42\n"
     ]
    }
   ],
   "source": [
    "from datetime import datetime\n",
    "now=datetime.now()\n",
    "currentDay=now.day\n",
    "currentMonth=now.month\n",
    "currentYear=now.year\n",
    "currentHour=now.hour\n",
    "currentMin=now.minute\n",
    "print(\"Date\",(currentDay),\"-\",(currentMonth),\"-\",(currentYear))\n",
    "print(\"Time\",(currentHour),\":\",(currentMin))"
   ]
  },
  {
   "cell_type": "code",
   "execution_count": 43,
   "metadata": {},
   "outputs": [
    {
     "name": "stdout",
     "output_type": "stream",
     "text": [
      "Enter the radius of the circle :22\n",
      "Area of the circle is : 1519.76\n"
     ]
    }
   ],
   "source": [
    "PI = 3.14\n",
    "r = float(input('Enter the radius of the circle :'))\n",
    "area = PI * r * r\n",
    "print(\"Area of the circle is : %.2f\" %area)"
   ]
  },
  {
   "cell_type": "code",
   "execution_count": 56,
   "metadata": {},
   "outputs": [
    {
     "name": "stdout",
     "output_type": "stream",
     "text": [
      "n a z i a F a z r i M\n"
     ]
    }
   ],
   "source": [
    "def reverse(s): \n",
    "    if len(s) == 0: \n",
    "        return s \n",
    "    else: \n",
    "        return reverse(s[1:]) + s[0] \n",
    "  \n",
    "s = \"M i r z a F a i z a n\"\n",
    "  \n",
    "\n",
    "print (reverse(s)) \n"
   ]
  },
  {
   "cell_type": "code",
   "execution_count": 60,
   "metadata": {},
   "outputs": [
    {
     "name": "stdout",
     "output_type": "stream",
     "text": [
      "Enter 1st Number5\n",
      "Enter 2st Number2\n",
      "Addition is  7\n"
     ]
    }
   ],
   "source": [
    "a=input(\"Enter 1st Number\")\n",
    "b=input(\"Enter 2st Number\")\n",
    "\n",
    "print(\"Addition is \", int(a)+int(b))"
   ]
  },
  {
   "cell_type": "code",
   "execution_count": null,
   "metadata": {},
   "outputs": [],
   "source": []
  }
 ],
 "metadata": {
  "kernelspec": {
   "display_name": "Python 3",
   "language": "python",
   "name": "python3"
  },
  "language_info": {
   "codemirror_mode": {
    "name": "ipython",
    "version": 3
   },
   "file_extension": ".py",
   "mimetype": "text/x-python",
   "name": "python",
   "nbconvert_exporter": "python",
   "pygments_lexer": "ipython3",
   "version": "3.7.4"
  }
 },
 "nbformat": 4,
 "nbformat_minor": 2
}
